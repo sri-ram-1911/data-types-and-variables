{
 "cells": [
  {
   "cell_type": "markdown",
   "id": "e4fb366f",
   "metadata": {},
   "source": [
    "# EXPERT SYSTEM"
   ]
  },
  {
   "cell_type": "code",
   "execution_count": 38,
   "id": "faa3d50d",
   "metadata": {},
   "outputs": [
    {
     "name": "stdout",
     "output_type": "stream",
     "text": [
      "\t\twelcome to automoblie AI Expert system\t\t\n",
      "\n",
      "\n",
      "AI:do you have any problem with your vehicle? (yes or no)\n",
      "\n",
      "you :no\n",
      "n\\AI : then why are you waste my time...\n"
     ]
    }
   ],
   "source": [
    "import time\n",
    "print(\"\\t\\twelcome to automoblie AI Expert system\\t\\t\")\n",
    "print(\"\\n\\nAI:do you have any problem with your vehicle? (yes or no)\\n\")\n",
    "choice1 =input(\"you :\")\n",
    "\n",
    "if choice1 == \"yes\":\n",
    "    print(\"\\nenter the type of your issue listen down below:\\n1.starting trouble\\n2. woubble while driving\\n3.i didn't have issue\\n\")\n",
    "    choice2 =input(\"\\nenter here (numbers only):\")          \n",
    "\n",
    "    if choice2 > \"3\" or choice2 <\"1\":\n",
    "        print(\"\\nAI : please Enter valid key..\")\n",
    "    elif choice2 == \"3\":\n",
    "        print(\"\\nAI : then,why are you enter yes in the first question...you fool\")\n",
    "    elif choice2 == \"2\":\n",
    "        print(\"\\nAI :ok let me think...!\\n\")\n",
    "        for i in range(1,20):\n",
    "            time.sleep(0.08)\n",
    "            print(\".\",flush=True,end=\"\")\n",
    "            print(\"\\nAI : when do you feel the woubbling\\n1.while drive on the highway at terrible speed\\n2.while drive normal road\\n\")\n",
    "            \n",
    "            choice3 =input(\"you :\")\n",
    "            \n",
    "            if choice3 == \"1\":\n",
    "                print(\"\\nAI: please wait still...\\nAI : i wanna call police... \\nAI : just kidding... go slow my friend\")\n",
    "                choice4 =input(\"you:\")\n",
    "           \n",
    "                if choice4 == \"no\":\n",
    "                    print(\"\\nAI : i'm glad to helped you...\\n thank you...!\\call me age\")  \n",
    "                elif choice4 ==\"yes\":\n",
    "                    print(\"\\nAI I think,you have to make a phone call to your service center...\\n thank you\")\n",
    "                else:\n",
    "                    print(\"\\nAI : please enter valid key...\")\n",
    "            else:\n",
    "                print(\"\\nAI : let me remember that you have to check that the key is inserted?\\nAI : Is it inserted?(yes or no)\") \n",
    "            choice5 = input(\"you :\")\n",
    "            if choice5=='no':\n",
    "                print(\"\\n AI : I think you have to study hard ... better then ride a bike\\n AI thank you ..!\")\n",
    "            elif choice5==\"yes\":\n",
    "                print(\"\\nAI Oh I see ...let me think \")\n",
    "                  \n",
    "                for i in range(1,40):\n",
    "                    time.sleep(0.08)\n",
    "                    print(\".\",flush=true,end=\"\")\n",
    "                    print(\"\\n\\nAI : sorry sir i didn't anything in my i think you have to reach service center\")\n",
    "                  \n",
    "            else:\n",
    "                print(\"\\ni'm getting bore when you enter wrong answer,'it doesnt't make any sence\".format(choice5))\n",
    "elif choice1=='no':\n",
    "    print(\"n\\AI : then why are you waste my time...\")\n",
    "    \n",
    "else:\n",
    "    print(\"AI :enter valid key\")         \n",
    "            \n",
    "                  \n",
    "           \n",
    "                  "
   ]
  },
  {
   "cell_type": "code",
   "execution_count": null,
   "id": "aeb7caed",
   "metadata": {},
   "outputs": [],
   "source": []
  },
  {
   "cell_type": "code",
   "execution_count": null,
   "id": "eef91377",
   "metadata": {},
   "outputs": [],
   "source": []
  }
 ],
 "metadata": {
  "kernelspec": {
   "display_name": "Python 3 (ipykernel)",
   "language": "python",
   "name": "python3"
  },
  "language_info": {
   "codemirror_mode": {
    "name": "ipython",
    "version": 3
   },
   "file_extension": ".py",
   "mimetype": "text/x-python",
   "name": "python",
   "nbconvert_exporter": "python",
   "pygments_lexer": "ipython3",
   "version": "3.9.18"
  }
 },
 "nbformat": 4,
 "nbformat_minor": 5
}
