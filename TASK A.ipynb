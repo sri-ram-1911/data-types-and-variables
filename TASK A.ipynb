{
 "cells": [
  {
   "cell_type": "code",
   "execution_count": 22,
   "id": "6af2ca91",
   "metadata": {},
   "outputs": [],
   "source": [
    "Pd={1:\"parandhaman\",2:122012012818,3:\"2nd year B sec\",4:\"PMIST\"}"
   ]
  },
  {
   "cell_type": "code",
   "execution_count": 23,
   "id": "9f03fe4d",
   "metadata": {},
   "outputs": [
    {
     "data": {
      "text/plain": [
       "{1: 'parandhaman', 2: 122012012818, 3: '2nd year B sec', 4: 'PMIST'}"
      ]
     },
     "execution_count": 23,
     "metadata": {},
     "output_type": "execute_result"
    }
   ],
   "source": [
    "Pd"
   ]
  },
  {
   "cell_type": "markdown",
   "id": "087b9529",
   "metadata": {},
   "source": [
    "# FORMAT PRINT"
   ]
  },
  {
   "cell_type": "code",
   "execution_count": 27,
   "id": "95db5ea5",
   "metadata": {},
   "outputs": [
    {
     "name": "stdout",
     "output_type": "stream",
     "text": [
      "my name is parandhaman),\n",
      " my reg no122012012818,\n",
      " my classs is 2nd year B sec,\n",
      " my college isPMIST\n"
     ]
    }
   ],
   "source": [
    "print(\"my name is {}),\\n my reg no{},\\n my classs is {},\\n my college is{}\".format(Pd[1],Pd[2],Pd[3],Pd[4]))"
   ]
  },
  {
   "cell_type": "code",
   "execution_count": null,
   "id": "da743858",
   "metadata": {},
   "outputs": [],
   "source": []
  }
 ],
 "metadata": {
  "kernelspec": {
   "display_name": "Python 3 (ipykernel)",
   "language": "python",
   "name": "python3"
  },
  "language_info": {
   "codemirror_mode": {
    "name": "ipython",
    "version": 3
   },
   "file_extension": ".py",
   "mimetype": "text/x-python",
   "name": "python",
   "nbconvert_exporter": "python",
   "pygments_lexer": "ipython3",
   "version": "3.10.9"
  }
 },
 "nbformat": 4,
 "nbformat_minor": 5
}
