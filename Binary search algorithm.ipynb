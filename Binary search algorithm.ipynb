{
 "cells": [
  {
   "cell_type": "code",
   "execution_count": 11,
   "id": "15c3b620",
   "metadata": {},
   "outputs": [],
   "source": [
    "randomnumber=[45,78,34,67,34,67,45,45,56,67,78,67,56,45,54,6,7,7,56,8,56,37,70,2,5,8,4,3,34,5]"
   ]
  },
  {
   "cell_type": "code",
   "execution_count": 12,
   "id": "dd10e821",
   "metadata": {},
   "outputs": [],
   "source": [
    "randomnumber.sort()"
   ]
  },
  {
   "cell_type": "code",
   "execution_count": 13,
   "id": "c91fe597",
   "metadata": {},
   "outputs": [
    {
     "name": "stdout",
     "output_type": "stream",
     "text": [
      "[2, 3, 4, 5, 5, 6, 7, 7, 8, 8, 34, 34, 34, 37, 45, 45, 45, 45, 54, 56, 56, 56, 56, 67, 67, 67, 67, 70, 78, 78]\n"
     ]
    }
   ],
   "source": [
    "print(randomnumber)"
   ]
  },
  {
   "cell_type": "code",
   "execution_count": 14,
   "id": "c9f19f3d",
   "metadata": {},
   "outputs": [
    {
     "name": "stdout",
     "output_type": "stream",
     "text": [
      "enter number to search34\n"
     ]
    }
   ],
   "source": [
    "num=int(input('enter number to search'))"
   ]
  },
  {
   "cell_type": "code",
   "execution_count": 17,
   "id": "71a3abf7",
   "metadata": {},
   "outputs": [],
   "source": [
    "def binary_search(randomnumber,num):\n",
    "    low=0\n",
    "    high=len(randomnumber)-1\n",
    "    while low<=high:\n",
    "        middle=(low+high)//2\n",
    "        if randomnumber[middle]==num:\n",
    "            print(f\"The searching element{num}is presnt at index value {middle}in dataset\")\n",
    "            break\n",
    "        elif randomnumber[middle]>num:\n",
    "          high=middle-1\n",
    "         \n",
    "        else :\n",
    "            low= middle +1\n",
    "        if randomnumber[middle]==num:\n",
    "            print(f\" The searching element {num} is not present in the dataset\")\n",
    "            return"
   ]
  },
  {
   "cell_type": "code",
   "execution_count": 19,
   "id": "ad7c0288",
   "metadata": {},
   "outputs": [
    {
     "name": "stdout",
     "output_type": "stream",
     "text": [
      "The searching element34is presnt at index value 10in dataset\n"
     ]
    }
   ],
   "source": [
    "binary_search(randomnumber,num)"
   ]
  },
  {
   "cell_type": "code",
   "execution_count": null,
   "id": "05a2aa24",
   "metadata": {},
   "outputs": [],
   "source": []
  },
  {
   "cell_type": "code",
   "execution_count": null,
   "id": "2fda51e9",
   "metadata": {},
   "outputs": [],
   "source": []
  }
 ],
 "metadata": {
  "kernelspec": {
   "display_name": "Python 3 (ipykernel)",
   "language": "python",
   "name": "python3"
  },
  "language_info": {
   "codemirror_mode": {
    "name": "ipython",
    "version": 3
   },
   "file_extension": ".py",
   "mimetype": "text/x-python",
   "name": "python",
   "nbconvert_exporter": "python",
   "pygments_lexer": "ipython3",
   "version": "3.10.12"
  }
 },
 "nbformat": 4,
 "nbformat_minor": 5
}
