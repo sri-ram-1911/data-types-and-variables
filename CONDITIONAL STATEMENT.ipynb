{
 "cells": [
  {
   "cell_type": "code",
   "execution_count": 19,
   "id": "bb2e2857",
   "metadata": {},
   "outputs": [],
   "source": [
    "a=16"
   ]
  },
  {
   "cell_type": "code",
   "execution_count": 21,
   "id": "9d3a7667",
   "metadata": {},
   "outputs": [
    {
     "name": "stdout",
     "output_type": "stream",
     "text": [
      "tata\n"
     ]
    }
   ],
   "source": [
    "if a==14:\n",
    "    print('hello word')\n",
    "else:\n",
    "    print('tata')"
   ]
  },
  {
   "cell_type": "code",
   "execution_count": 31,
   "id": "ca3a4b0d",
   "metadata": {},
   "outputs": [
    {
     "name": "stdout",
     "output_type": "stream",
     "text": [
      "enter your age54\n",
      "elligible for voting\n",
      "enter your name:ganesh\n"
     ]
    }
   ],
   "source": [
    "x=int(input(\"enter your age\"))\n",
    "if x>=20:\n",
    "    print(\"elligible for voting\")\n",
    "    name=input('enter your name:')\n",
    "    \n",
    "else:\n",
    "    print(\"not elligible for voting\")"
   ]
  },
  {
   "cell_type": "code",
   "execution_count": 32,
   "id": "4189414c",
   "metadata": {},
   "outputs": [
    {
     "name": "stdout",
     "output_type": "stream",
     "text": [
      "ganesh\n"
     ]
    }
   ],
   "source": [
    "print(name)"
   ]
  },
  {
   "cell_type": "code",
   "execution_count": 34,
   "id": "602b45db",
   "metadata": {},
   "outputs": [
    {
     "name": "stdout",
     "output_type": "stream",
     "text": [
      "54\n"
     ]
    }
   ],
   "source": [
    "print(x)"
   ]
  },
  {
   "cell_type": "code",
   "execution_count": 39,
   "id": "14f21608",
   "metadata": {},
   "outputs": [
    {
     "name": "stdout",
     "output_type": "stream",
     "text": [
      "worked days12\n",
      "Your salary is 500\n"
     ]
    }
   ],
   "source": [
    "x=int(input('worked days'))\n",
    "if x==5:\n",
    "    print('Your salary is 2500')\n",
    "elif x==4:\n",
    "     print('Your salary is 2000')\n",
    "elif x==3:\n",
    "     print('Your salary is 1500')\n",
    "elif x==2:\n",
    "     print('Your salary is 1000')\n",
    "else:\n",
    "     print('Your salary is 500')"
   ]
  },
  {
   "cell_type": "code",
   "execution_count": null,
   "id": "d7bba2d6",
   "metadata": {},
   "outputs": [],
   "source": []
  },
  {
   "cell_type": "code",
   "execution_count": null,
   "id": "3064398e",
   "metadata": {},
   "outputs": [],
   "source": []
  }
 ],
 "metadata": {
  "kernelspec": {
   "display_name": "Python 3 (ipykernel)",
   "language": "python",
   "name": "python3"
  },
  "language_info": {
   "codemirror_mode": {
    "name": "ipython",
    "version": 3
   },
   "file_extension": ".py",
   "mimetype": "text/x-python",
   "name": "python",
   "nbconvert_exporter": "python",
   "pygments_lexer": "ipython3",
   "version": "3.10.9"
  }
 },
 "nbformat": 4,
 "nbformat_minor": 5
}
