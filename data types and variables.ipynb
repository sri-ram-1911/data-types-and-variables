{
 "cells": [
  {
   "cell_type": "code",
   "execution_count": 8,
   "id": "a179fbf8",
   "metadata": {},
   "outputs": [],
   "source": [
    "l1=[\"num\",10,5+2j]"
   ]
  },
  {
   "cell_type": "code",
   "execution_count": 9,
   "id": "cf590142",
   "metadata": {},
   "outputs": [
    {
     "data": {
      "text/plain": [
       "['num', 10, (5+2j)]"
      ]
     },
     "execution_count": 9,
     "metadata": {},
     "output_type": "execute_result"
    }
   ],
   "source": [
    "l1"
   ]
  },
  {
   "cell_type": "code",
   "execution_count": 10,
   "id": "8451efb4",
   "metadata": {},
   "outputs": [],
   "source": [
    "l1.append(20)"
   ]
  },
  {
   "cell_type": "code",
   "execution_count": 11,
   "id": "9b0e2334",
   "metadata": {},
   "outputs": [
    {
     "data": {
      "text/plain": [
       "['num', 10, (5+2j), 20]"
      ]
     },
     "execution_count": 11,
     "metadata": {},
     "output_type": "execute_result"
    }
   ],
   "source": [
    "l1"
   ]
  },
  {
   "cell_type": "code",
   "execution_count": 12,
   "id": "6439a2d2",
   "metadata": {},
   "outputs": [
    {
     "data": {
      "text/plain": [
       "'num'"
      ]
     },
     "execution_count": 12,
     "metadata": {},
     "output_type": "execute_result"
    }
   ],
   "source": [
    "l1[0]"
   ]
  },
  {
   "cell_type": "code",
   "execution_count": 13,
   "id": "62462017",
   "metadata": {},
   "outputs": [],
   "source": [
    "tup1=(\"num\",10,(5+2j),20)"
   ]
  },
  {
   "cell_type": "code",
   "execution_count": 14,
   "id": "69dd6649",
   "metadata": {},
   "outputs": [
    {
     "data": {
      "text/plain": [
       "('num', 10, (5+2j), 20)"
      ]
     },
     "execution_count": 14,
     "metadata": {},
     "output_type": "execute_result"
    }
   ],
   "source": [
    "tup1"
   ]
  },
  {
   "cell_type": "code",
   "execution_count": 15,
   "id": "6dbda512",
   "metadata": {},
   "outputs": [
    {
     "ename": "AttributeError",
     "evalue": "'tuple' object has no attribute 'append'",
     "output_type": "error",
     "traceback": [
      "\u001b[1;31m---------------------------------------------------------------------------\u001b[0m",
      "\u001b[1;31mAttributeError\u001b[0m                            Traceback (most recent call last)",
      "Cell \u001b[1;32mIn[15], line 1\u001b[0m\n\u001b[1;32m----> 1\u001b[0m \u001b[43mtup1\u001b[49m\u001b[38;5;241;43m.\u001b[39;49m\u001b[43mappend\u001b[49m(\u001b[38;5;241m10\u001b[39m)\n",
      "\u001b[1;31mAttributeError\u001b[0m: 'tuple' object has no attribute 'append'"
     ]
    }
   ],
   "source": [
    "tup1.append(10)"
   ]
  },
  {
   "cell_type": "code",
   "execution_count": 2,
   "id": "3b7ec5ff",
   "metadata": {},
   "outputs": [],
   "source": [
    "FRUITS={1:\"APPLE\",2:'BANANA',3:'GRAPES',4:'ORANGE',5:'WATER MELON'}"
   ]
  },
  {
   "cell_type": "code",
   "execution_count": 4,
   "id": "2107e21b",
   "metadata": {},
   "outputs": [
    {
     "data": {
      "text/plain": [
       "dict"
      ]
     },
     "execution_count": 4,
     "metadata": {},
     "output_type": "execute_result"
    }
   ],
   "source": [
    "type(FRUITS)"
   ]
  },
  {
   "cell_type": "code",
   "execution_count": 5,
   "id": "03a709d2",
   "metadata": {},
   "outputs": [
    {
     "data": {
      "text/plain": [
       "dict_values(['APPLE', 'BANANA', 'GRAPES', 'ORANGE', 'WATER MELON'])"
      ]
     },
     "execution_count": 5,
     "metadata": {},
     "output_type": "execute_result"
    }
   ],
   "source": [
    "FRUITS.values()"
   ]
  },
  {
   "cell_type": "code",
   "execution_count": 6,
   "id": "b037c6d5",
   "metadata": {},
   "outputs": [
    {
     "data": {
      "text/plain": [
       "dict_keys([1, 2, 3, 4, 5])"
      ]
     },
     "execution_count": 6,
     "metadata": {},
     "output_type": "execute_result"
    }
   ],
   "source": [
    "FRUITS.keys()"
   ]
  },
  {
   "cell_type": "code",
   "execution_count": 11,
   "id": "4c5003fa",
   "metadata": {},
   "outputs": [
    {
     "data": {
      "text/plain": [
       "'GRAPES'"
      ]
     },
     "execution_count": 11,
     "metadata": {},
     "output_type": "execute_result"
    }
   ],
   "source": [
    "FRUITS[3]"
   ]
  },
  {
   "cell_type": "code",
   "execution_count": 12,
   "id": "7993e818",
   "metadata": {},
   "outputs": [],
   "source": [
    "FRUITS[1]=\"ORANGE\""
   ]
  },
  {
   "cell_type": "code",
   "execution_count": 13,
   "id": "7cd201f1",
   "metadata": {},
   "outputs": [
    {
     "data": {
      "text/plain": [
       "{1: 'ORANGE', 2: 'BANANA', 3: 'GRAPES', 4: 'ORANGE', 5: 'WATER MELON'}"
      ]
     },
     "execution_count": 13,
     "metadata": {},
     "output_type": "execute_result"
    }
   ],
   "source": [
    "FRUITS"
   ]
  },
  {
   "cell_type": "code",
   "execution_count": 23,
   "id": "ae268410",
   "metadata": {},
   "outputs": [],
   "source": [
    "DETAIL={\"FRUITS\":\"BANANA\",\"AMOUNT\":70,\"C\":\"CONTAINER\"}"
   ]
  },
  {
   "cell_type": "code",
   "execution_count": 24,
   "id": "ae6dbfbb",
   "metadata": {},
   "outputs": [
    {
     "data": {
      "text/plain": [
       "{'FRUITS': 'BANANA', 'AMOUNT': 70, 'C': 'CONTAINER'}"
      ]
     },
     "execution_count": 24,
     "metadata": {},
     "output_type": "execute_result"
    }
   ],
   "source": [
    "DETAIL"
   ]
  },
  {
   "cell_type": "code",
   "execution_count": 25,
   "id": "5c27472d",
   "metadata": {},
   "outputs": [
    {
     "data": {
      "text/plain": [
       "3"
      ]
     },
     "execution_count": 25,
     "metadata": {},
     "output_type": "execute_result"
    }
   ],
   "source": [
    "len(DETAIL)"
   ]
  },
  {
   "cell_type": "code",
   "execution_count": 26,
   "id": "a7875165",
   "metadata": {},
   "outputs": [
    {
     "data": {
      "text/plain": [
       "70"
      ]
     },
     "execution_count": 26,
     "metadata": {},
     "output_type": "execute_result"
    }
   ],
   "source": [
    "DETAIL.pop('AMOUNT')"
   ]
  },
  {
   "cell_type": "code",
   "execution_count": 33,
   "id": "44c171b4",
   "metadata": {},
   "outputs": [],
   "source": [
    "DETAIL2={\"APPLE\",\"BANANA\",\"GRAPES\"}"
   ]
  },
  {
   "cell_type": "code",
   "execution_count": 35,
   "id": "f94a5385",
   "metadata": {},
   "outputs": [
    {
     "data": {
      "text/plain": [
       "set"
      ]
     },
     "execution_count": 35,
     "metadata": {},
     "output_type": "execute_result"
    }
   ],
   "source": [
    "type(DETAIL2)"
   ]
  },
  {
   "cell_type": "code",
   "execution_count": 36,
   "id": "43622c58",
   "metadata": {},
   "outputs": [
    {
     "data": {
      "text/plain": [
       "{'APPLE', 'BANANA', 'GRAPES'}"
      ]
     },
     "execution_count": 36,
     "metadata": {},
     "output_type": "execute_result"
    }
   ],
   "source": [
    "DETAIL2"
   ]
  },
  {
   "cell_type": "code",
   "execution_count": 38,
   "id": "71af3027",
   "metadata": {},
   "outputs": [],
   "source": [
    "DETAIL2.add(\"pinapple\",)"
   ]
  },
  {
   "cell_type": "code",
   "execution_count": 39,
   "id": "7b18fd74",
   "metadata": {},
   "outputs": [
    {
     "data": {
      "text/plain": [
       "{'APPLE', 'BANANA', 'GRAPES', 'pinapple'}"
      ]
     },
     "execution_count": 39,
     "metadata": {},
     "output_type": "execute_result"
    }
   ],
   "source": [
    "DETAIL2"
   ]
  },
  {
   "cell_type": "code",
   "execution_count": 41,
   "id": "0ef6b9aa",
   "metadata": {},
   "outputs": [],
   "source": [
    "DETAIL2.update({\"kiwi\",\"gowa\",\"blueberry\",})"
   ]
  },
  {
   "cell_type": "code",
   "execution_count": 42,
   "id": "008ea626",
   "metadata": {},
   "outputs": [
    {
     "data": {
      "text/plain": [
       "{'APPLE', 'BANANA', 'GRAPES', 'blueberry', 'gowa', 'kiwi', 'pinapple'}"
      ]
     },
     "execution_count": 42,
     "metadata": {},
     "output_type": "execute_result"
    }
   ],
   "source": [
    "DETAIL2"
   ]
  },
  {
   "cell_type": "code",
   "execution_count": 43,
   "id": "66c64428",
   "metadata": {},
   "outputs": [],
   "source": [
    "DETAIL3=frozenset({\"banana\",\"blueberry\"})"
   ]
  },
  {
   "cell_type": "code",
   "execution_count": 44,
   "id": "a8172a0e",
   "metadata": {},
   "outputs": [
    {
     "data": {
      "text/plain": [
       "frozenset"
      ]
     },
     "execution_count": 44,
     "metadata": {},
     "output_type": "execute_result"
    }
   ],
   "source": [
    "type(DETAIL3)"
   ]
  },
  {
   "cell_type": "code",
   "execution_count": 45,
   "id": "207c5cad",
   "metadata": {},
   "outputs": [
    {
     "data": {
      "text/plain": [
       "frozenset({'banana', 'blueberry'})"
      ]
     },
     "execution_count": 45,
     "metadata": {},
     "output_type": "execute_result"
    }
   ],
   "source": [
    "DETAIL3"
   ]
  },
  {
   "cell_type": "code",
   "execution_count": 49,
   "id": "f59a0eac",
   "metadata": {},
   "outputs": [
    {
     "data": {
      "text/plain": [
       "True"
      ]
     },
     "execution_count": 49,
     "metadata": {},
     "output_type": "execute_result"
    }
   ],
   "source": [
    "A=10\n",
    "B=14\n",
    "A<B"
   ]
  },
  {
   "cell_type": "code",
   "execution_count": null,
   "id": "0a3f2d3d",
   "metadata": {},
   "outputs": [],
   "source": []
  }
 ],
 "metadata": {
  "kernelspec": {
   "display_name": "Python 3 (ipykernel)",
   "language": "python",
   "name": "python3"
  },
  "language_info": {
   "codemirror_mode": {
    "name": "ipython",
    "version": 3
   },
   "file_extension": ".py",
   "mimetype": "text/x-python",
   "name": "python",
   "nbconvert_exporter": "python",
   "pygments_lexer": "ipython3",
   "version": "3.9.17"
  }
 },
 "nbformat": 4,
 "nbformat_minor": 5
}
