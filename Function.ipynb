{
 "cells": [
  {
   "cell_type": "markdown",
   "id": "e04e70a2",
   "metadata": {},
   "source": [
    "# Function"
   ]
  },
  {
   "cell_type": "code",
   "execution_count": 3,
   "id": "f0ab54cf",
   "metadata": {},
   "outputs": [],
   "source": [
    "def birthday():\n",
    "    print('cake cutting')\n",
    "    print('Birthday Wishes')\n",
    "    print('Birthday treat')\n",
    "    print('Birthday Gifts')\n",
    "    "
   ]
  },
  {
   "cell_type": "code",
   "execution_count": 5,
   "id": "b3269c36",
   "metadata": {},
   "outputs": [
    {
     "name": "stdout",
     "output_type": "stream",
     "text": [
      "cake cutting\n",
      "Birthday Wishes\n",
      "Birthday treat\n",
      "Birthday Gifts\n"
     ]
    }
   ],
   "source": [
    "birthday()"
   ]
  },
  {
   "cell_type": "code",
   "execution_count": 7,
   "id": "c2d1d546",
   "metadata": {},
   "outputs": [],
   "source": [
    "def elgibility():\n",
    "    x=int(input('enter your age'))\n",
    "    \n",
    "    if x>=18:\n",
    "        print(\"elligible for voting\")\n",
    "    else:\n",
    "        print(\"not elligible for voting \")"
   ]
  },
  {
   "cell_type": "code",
   "execution_count": 8,
   "id": "797992ed",
   "metadata": {},
   "outputs": [
    {
     "name": "stdout",
     "output_type": "stream",
     "text": [
      "enter your age67\n",
      "elligible for voting\n"
     ]
    }
   ],
   "source": [
    "elgibility()"
   ]
  },
  {
   "cell_type": "code",
   "execution_count": null,
   "id": "0128fcd2",
   "metadata": {},
   "outputs": [],
   "source": []
  }
 ],
 "metadata": {
  "kernelspec": {
   "display_name": "Python 3 (ipykernel)",
   "language": "python",
   "name": "python3"
  },
  "language_info": {
   "codemirror_mode": {
    "name": "ipython",
    "version": 3
   },
   "file_extension": ".py",
   "mimetype": "text/x-python",
   "name": "python",
   "nbconvert_exporter": "python",
   "pygments_lexer": "ipython3",
   "version": "3.10.12"
  }
 },
 "nbformat": 4,
 "nbformat_minor": 5
}
