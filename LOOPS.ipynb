{
 "cells": [
  {
   "cell_type": "markdown",
   "id": "bbe7e681",
   "metadata": {},
   "source": [
    "# FOR LOOP"
   ]
  },
  {
   "cell_type": "code",
   "execution_count": null,
   "id": "d561117c",
   "metadata": {},
   "outputs": [],
   "source": [
    "for <variable> in <sequence>:\n",
    "    <statement>"
   ]
  },
  {
   "cell_type": "code",
   "execution_count": 19,
   "id": "da2f4953",
   "metadata": {},
   "outputs": [],
   "source": [
    "lis=[1,2,3,4,5,6,7,8,9,10]"
   ]
  },
  {
   "cell_type": "code",
   "execution_count": 20,
   "id": "5907b8d4",
   "metadata": {},
   "outputs": [
    {
     "name": "stdout",
     "output_type": "stream",
     "text": [
      "the step is 1\n",
      "the step is 2\n",
      "the step is 3\n",
      "the step is 4\n",
      "the step is 5\n",
      "the step is 6\n",
      "the step is 7\n",
      "the step is 8\n",
      "the step is 9\n",
      "the step is 10\n"
     ]
    }
   ],
   "source": [
    "for step in lis:\n",
    "    print(f\"the step is {step}\")"
   ]
  },
  {
   "cell_type": "code",
   "execution_count": 4,
   "id": "b6d8262e",
   "metadata": {
    "scrolled": true
   },
   "outputs": [
    {
     "name": "stdout",
     "output_type": "stream",
     "text": [
      "enter number of product5\n",
      "enter product name :five star\n",
      "enter product rate :15\n",
      "enter product name :dairy milk\n",
      "enter product rate :45\n",
      "enter product name :french fries\n",
      "enter product rate :60\n",
      "enter product name :milk shake\n",
      "enter product rate :50\n",
      "enter product name :water melon\n",
      "enter product rate :100\n"
     ]
    }
   ],
   "source": [
    "product_list=[]\n",
    "x=int(input('enter number of product'))\n",
    "for i in range(x):\n",
    "        product_list.append(input(\"enter product name :\"))\n",
    "        product_list.append(int(input(\"enter product rate :\")))\n",
    "       "
   ]
  },
  {
   "cell_type": "code",
   "execution_count": 5,
   "id": "eb6fb7d4",
   "metadata": {},
   "outputs": [
    {
     "data": {
      "text/plain": [
       "['five star',\n",
       " 15,\n",
       " 'dairy milk',\n",
       " 45,\n",
       " 'french fries',\n",
       " 60,\n",
       " 'milk shake',\n",
       " 50,\n",
       " 'water melon',\n",
       " 100]"
      ]
     },
     "execution_count": 5,
     "metadata": {},
     "output_type": "execute_result"
    }
   ],
   "source": [
    "product_list\n"
   ]
  },
  {
   "cell_type": "markdown",
   "id": "74437ce2",
   "metadata": {},
   "source": [
    "# while loop"
   ]
  },
  {
   "cell_type": "code",
   "execution_count": 45,
   "id": "b309190c",
   "metadata": {},
   "outputs": [
    {
     "name": "stdout",
     "output_type": "stream",
     "text": [
      "enter the number:610\n",
      "0\n",
      "1\n",
      "1\n",
      "2\n",
      "3\n",
      "5\n",
      "8\n",
      "13\n",
      "21\n",
      "34\n",
      "55\n",
      "89\n",
      "144\n",
      "233\n",
      "377\n",
      "610\n"
     ]
    }
   ],
   "source": [
    "n=int(input(\"enter the number:\"))\n",
    "n1=0\n",
    "n2=1\n",
    "n3=0\n",
    "count=1\n",
    "while n3<=n:\n",
    "    print(n3)\n",
    "    count+=1\n",
    "    n1=n2\n",
    "    n2=n3\n",
    "    n3=n1+n2\n",
    "        "
   ]
  },
  {
   "cell_type": "code",
   "execution_count": null,
   "id": "81e2840b",
   "metadata": {},
   "outputs": [],
   "source": []
  }
 ],
 "metadata": {
  "kernelspec": {
   "display_name": "Python 3 (ipykernel)",
   "language": "python",
   "name": "python3"
  },
  "language_info": {
   "codemirror_mode": {
    "name": "ipython",
    "version": 3
   },
   "file_extension": ".py",
   "mimetype": "text/x-python",
   "name": "python",
   "nbconvert_exporter": "python",
   "pygments_lexer": "ipython3",
   "version": "3.10.12"
  }
 },
 "nbformat": 4,
 "nbformat_minor": 5
}
