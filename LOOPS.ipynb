{
 "cells": [
  {
   "cell_type": "markdown",
   "id": "f477ebf8",
   "metadata": {},
   "source": [
    "# FOR LOOP"
   ]
  },
  {
   "cell_type": "code",
   "execution_count": null,
   "id": "b729b2ee",
   "metadata": {},
   "outputs": [],
   "source": [
    "for <variable> in <sequence>:\n",
    "    <statement>"
   ]
  },
  {
   "cell_type": "code",
   "execution_count": 19,
   "id": "6b20788f",
   "metadata": {},
   "outputs": [],
   "source": [
    "lis=[1,2,3,4,5,6,7,8,9,10]"
   ]
  },
  {
   "cell_type": "code",
   "execution_count": 20,
   "id": "a0e78077",
   "metadata": {},
   "outputs": [
    {
     "name": "stdout",
     "output_type": "stream",
     "text": [
      "the step is 1\n",
      "the step is 2\n",
      "the step is 3\n",
      "the step is 4\n",
      "the step is 5\n",
      "the step is 6\n",
      "the step is 7\n",
      "the step is 8\n",
      "the step is 9\n",
      "the step is 10\n"
     ]
    }
   ],
   "source": [
    "for step in lis:\n",
    "    print(f\"the step is {step}\")"
   ]
  },
  {
   "cell_type": "code",
   "execution_count": 36,
   "id": "c697ea7d",
   "metadata": {
    "scrolled": true
   },
   "outputs": [
    {
     "name": "stdout",
     "output_type": "stream",
     "text": [
      "enter number of product5\n",
      "enter product name :five star\n",
      "enter product rate :15\n",
      "enter product name :dairy milk\n",
      "enter product rate :100\n",
      "enter product name :french fries\n",
      "enter product rate :60\n",
      "enter product name :milk shake\n",
      "enter product rate :60\n",
      "enter product name :water melon \n",
      "enter product rate :40\n"
     ]
    }
   ],
   "source": [
    "product_list=[]\n",
    "x=int(input('enter number of product'))\n",
    "for i in range(x):\n",
    "        product_list.append(input(\"enter product name :\"))\n",
    "        product_list.append(int(input(\"enter product rate :\")))\n",
    "       "
   ]
  },
  {
   "cell_type": "code",
   "execution_count": 37,
   "id": "06b6c07f",
   "metadata": {},
   "outputs": [
    {
     "data": {
      "text/plain": [
       "['five star',\n",
       " 15,\n",
       " 'dairy milk',\n",
       " 100,\n",
       " 'french fries',\n",
       " 60,\n",
       " 'milk shake',\n",
       " 60,\n",
       " 'water melon ',\n",
       " 40]"
      ]
     },
     "execution_count": 37,
     "metadata": {},
     "output_type": "execute_result"
    }
   ],
   "source": [
    "product_list\n"
   ]
  },
  {
   "cell_type": "markdown",
   "id": "5254f12f",
   "metadata": {},
   "source": [
    "# while loop"
   ]
  },
  {
   "cell_type": "code",
   "execution_count": null,
   "id": "3ad7bef0",
   "metadata": {},
   "outputs": [],
   "source": [
    "while    "
   ]
  }
 ],
 "metadata": {
  "kernelspec": {
   "display_name": "Python 3 (ipykernel)",
   "language": "python",
   "name": "python3"
  },
  "language_info": {
   "codemirror_mode": {
    "name": "ipython",
    "version": 3
   },
   "file_extension": ".py",
   "mimetype": "text/x-python",
   "name": "python",
   "nbconvert_exporter": "python",
   "pygments_lexer": "ipython3",
   "version": "3.10.12"
  }
 },
 "nbformat": 4,
 "nbformat_minor": 5
}
